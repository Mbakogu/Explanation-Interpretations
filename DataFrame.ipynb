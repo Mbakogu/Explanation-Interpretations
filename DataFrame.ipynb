{
 "cells": [
  {
   "cell_type": "code",
   "execution_count": 1,
   "metadata": {},
   "outputs": [],
   "source": [
    "import sklearn\n",
    "import sklearn.datasets\n",
    "from sklearn.cluster import KMeans\n",
    "import matplotlib.pyplot as plt\n",
    "import sklearn.ensemble\n",
    "import numpy as np\n",
    "import lime\n",
    "import lime.lime_tabular\n",
    "from collections import defaultdict\n",
    "import pandas as pd\n",
    "np.random.seed(1)\n",
    "\n",
    "\n",
    "def k_cluster(data, k = 2, func = None):\n",
    "    print(\"Kmeans for {} clusters\".format(k))\n",
    "    if func is None:\n",
    "        means = KMeans(n_clusters=k, random_state=0).fit_predict(data)\n",
    "        return means\n",
    "\n",
    "    return func(data)"
   ]
  },
  {
   "cell_type": "code",
   "execution_count": 7,
   "metadata": {},
   "outputs": [],
   "source": [
    "data_frame = pd.read_pickle(\"Adult_Data_Frame_Normal.pkl\")"
   ]
  },
  {
   "cell_type": "code",
   "execution_count": 54,
   "metadata": {},
   "outputs": [],
   "source": [
    "def calc_discrepancy(df, ecid, f):\n",
    "    discrepancy = 0\n",
    "    spec = df[df[\"ecid\"] == ecid][f]\n",
    "    feat = df[f]\n",
    "    \n",
    "    spec_dist = defaultdict(int)\n",
    "    \n",
    "    feat_dist = defaultdict(int)\n",
    "    \n",
    "    for item in spec:\n",
    "        spec_dist[item] += 1\n",
    "\n",
    "    for item in feat:\n",
    "        feat_dist[item] += 1\n",
    "        \n",
    "    if set(spec_dist) != set(feat_dist):\n",
    "        raise Exception(\"One of the arrays is missing 1 or more categories\")\n",
    "\n",
    "    for item in spec_dist:\n",
    "        spec_dist[item] = float(spec_dist[item])/len(spec)\n",
    "\n",
    "    for item in feat_dist:\n",
    "        feat_dist[item] = float(feat_dist[item])/len(feat)\n",
    "    \n",
    "    \n",
    "    dif_arr = [abs(feat_dist[item] - spec_dist[item]) for item in feat_dist]\n",
    "    \n",
    "    for item in dif_arr:\n",
    "        discrepancy += item/float(len(dif_arr)) \n",
    "        \n",
    "    return discrepancy"
   ]
  },
  {
   "cell_type": "code",
   "execution_count": 57,
   "metadata": {},
   "outputs": [
    {
     "name": "stdout",
     "output_type": "stream",
     "text": [
      "0.01561333165498038\n"
     ]
    }
   ],
   "source": [
    "print(calc_discrepancy(data_frame, 0, \"Education\"))"
   ]
  },
  {
   "cell_type": "code",
   "execution_count": null,
   "metadata": {},
   "outputs": [],
   "source": []
  }
 ],
 "metadata": {
  "kernelspec": {
   "display_name": "Python (py36)",
   "language": "python",
   "name": "py36"
  },
  "language_info": {
   "codemirror_mode": {
    "name": "ipython",
    "version": 3
   },
   "file_extension": ".py",
   "mimetype": "text/x-python",
   "name": "python",
   "nbconvert_exporter": "python",
   "pygments_lexer": "ipython3",
   "version": "3.6.8"
  }
 },
 "nbformat": 4,
 "nbformat_minor": 2
}
